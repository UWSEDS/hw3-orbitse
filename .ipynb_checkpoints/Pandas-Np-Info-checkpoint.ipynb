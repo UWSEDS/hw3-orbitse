{
 "cells": [
  {
   "cell_type": "markdown",
   "metadata": {
    "collapsed": true
   },
   "source": [
    "Practicing some skills"
   ]
  },
  {
   "cell_type": "code",
   "execution_count": 23,
   "metadata": {
    "collapsed": false
   },
   "outputs": [
    {
     "name": "stdout",
     "output_type": "stream",
     "text": [
      "Using matplotlib backend: Qt5Agg\n"
     ]
    }
   ],
   "source": [
    "# Import libraries\n",
    "import pandas as pd\n",
    "%matplotlib\n",
    "import numpy as np\n",
    "import sys"
   ]
  },
  {
   "cell_type": "markdown",
   "metadata": {},
   "source": [
    "Formatting a data frame:"
   ]
  },
  {
   "cell_type": "code",
   "execution_count": 12,
   "metadata": {
    "collapsed": false
   },
   "outputs": [
    {
     "data": {
      "text/plain": [
       "(142846, 12)"
      ]
     },
     "execution_count": 12,
     "metadata": {},
     "output_type": "execute_result"
    }
   ],
   "source": [
    "# set the maximum number of columns\n",
    "df = pd.read_csv(\"2015_trip_data.csv\")\n",
    "pd.set_option('display.max_columns', 20) \n",
    "df.shape"
   ]
  },
  {
   "cell_type": "code",
   "execution_count": 13,
   "metadata": {
    "collapsed": false
   },
   "outputs": [
    {
     "data": {
      "text/plain": [
       "Index(['trip_id', 'starttime', 'stoptime', 'bikeid', 'tripduration',\n",
       "       'from_station_name', 'to_station_name', 'from_station_id',\n",
       "       'to_station_id', 'usertype', 'gender', 'birthyear'],\n",
       "      dtype='object')"
      ]
     },
     "execution_count": 13,
     "metadata": {},
     "output_type": "execute_result"
    }
   ],
   "source": [
    "# Get the names of the columns\n",
    "df.columns"
   ]
  },
  {
   "cell_type": "code",
   "execution_count": 14,
   "metadata": {
    "collapsed": false
   },
   "outputs": [
    {
     "data": {
      "text/plain": [
       "0    10/13/2014 10:31\n",
       "1    10/13/2014 10:32\n",
       "2    10/13/2014 10:33\n",
       "3    10/13/2014 10:34\n",
       "4    10/13/2014 10:34\n",
       "Name: starttime, dtype: object"
      ]
     },
     "execution_count": 14,
     "metadata": {},
     "output_type": "execute_result"
    }
   ],
   "source": [
    "# Get the first five rows of a column by name\n",
    "df['starttime'][:5]"
   ]
  },
  {
   "cell_type": "code",
   "execution_count": 17,
   "metadata": {
    "collapsed": false
   },
   "outputs": [
    {
     "data": {
      "text/plain": [
       "142841    10/12/2015 20:41\n",
       "142842    10/12/2015 20:43\n",
       "142843    10/12/2015 21:03\n",
       "142844    10/12/2015 21:35\n",
       "142845    10/12/2015 22:45\n",
       "Name: starttime, dtype: object"
      ]
     },
     "execution_count": 17,
     "metadata": {},
     "output_type": "execute_result"
    }
   ],
   "source": [
    "# Get the last five rows of a column by name\n",
    "df['starttime'][-5:]"
   ]
  },
  {
   "cell_type": "code",
   "execution_count": 20,
   "metadata": {
    "collapsed": false
   },
   "outputs": [
    {
     "data": {
      "text/plain": [
       "0    (31.274, 2454.54]\n",
       "1    (31.274, 2454.54]\n",
       "2    (31.274, 2454.54]\n",
       "3    (31.274, 2454.54]\n",
       "4    (31.274, 2454.54]\n",
       "Name: tripduration, dtype: category\n",
       "Categories (12, object): [(31.274, 2454.54] < (2454.54, 4849.073] < (4849.073, 7243.605] < (7243.605, 9638.138] ... (19216.268, 21610.801] < (21610.801, 24005.333] < (24005.333, 26399.865] < (26399.865, 28794.398]]"
      ]
     },
     "execution_count": 20,
     "metadata": {},
     "output_type": "execute_result"
    }
   ],
   "source": [
    "# Create categorical ranges for numerical data, you can specifiy the number of ranges you wish\n",
    "# pandas.cut(x, bins, right=True, labels=None, retbins=False, precision=3, include_lowest=False)\n",
    "# pandas.cut return indices of half-open bins to which each value of x belongs.\n",
    "tripdurations = pd.cut(df['tripduration'], 12) # creates 12 categories or bins\n",
    "tripdurations[:5]"
   ]
  },
  {
   "cell_type": "code",
   "execution_count": 21,
   "metadata": {
    "collapsed": false
   },
   "outputs": [
    {
     "data": {
      "text/plain": [
       "(31.274, 2454.54]         130667\n",
       "(2454.54, 4849.073]         6424\n",
       "(4849.073, 7243.605]        2515\n",
       "(7243.605, 9638.138]        1243\n",
       "(9638.138, 12032.67]         722\n",
       "(12032.67, 14427.203]        409\n",
       "(14427.203, 16821.735]       320\n",
       "(16821.735, 19216.268]       216\n",
       "(19216.268, 21610.801]       115\n",
       "(21610.801, 24005.333]        86\n",
       "(24005.333, 26399.865]        80\n",
       "(26399.865, 28794.398]        49\n",
       "Name: tripduration, dtype: int64"
      ]
     },
     "execution_count": 21,
     "metadata": {},
     "output_type": "execute_result"
    }
   ],
   "source": [
    "# Look at the value counts in the ranges created above\n",
    "pd.value_counts(tripdurations)"
   ]
  },
  {
   "cell_type": "code",
   "execution_count": 24,
   "metadata": {
    "collapsed": false
   },
   "outputs": [
    {
     "data": {
      "text/plain": [
       "[good, good, good, medium, bad, good]\n",
       "Categories (3, object): [good < medium < bad]"
      ]
     },
     "execution_count": 24,
     "metadata": {},
     "output_type": "execute_result"
    }
   ],
   "source": [
    "pd.cut(np.array([.2, 1.4, 2.5, 6.2, 9.7, 2.1]), 3,labels=[\"good\",\"medium\",\"bad\"])"
   ]
  },
  {
   "cell_type": "code",
   "execution_count": 25,
   "metadata": {
    "collapsed": false
   },
   "outputs": [
    {
     "data": {
      "text/plain": [
       "trip_id                              431\n",
       "starttime               10/13/2014 10:31\n",
       "stoptime                10/13/2014 10:48\n",
       "bikeid                          SEA00298\n",
       "tripduration                     985.935\n",
       "from_station_name    2nd Ave & Spring St\n",
       "Name: 0, dtype: object"
      ]
     },
     "execution_count": 25,
     "metadata": {},
     "output_type": "execute_result"
    }
   ],
   "source": [
    "# Index into the first six columns of the first row\n",
    "df.ix[0,0:6]"
   ]
  },
  {
   "cell_type": "code",
   "execution_count": 29,
   "metadata": {
    "collapsed": false
   },
   "outputs": [
    {
     "data": {
      "text/plain": [
       "20237    1/1/2015 0:23\n",
       "20238    1/1/2015 0:23\n",
       "20240    1/1/2015 0:44\n",
       "20239    1/1/2015 0:48\n",
       "20241    1/1/2015 0:48\n",
       "Name: stoptime, dtype: object"
      ]
     },
     "execution_count": 29,
     "metadata": {},
     "output_type": "execute_result"
    }
   ],
   "source": [
    "# Order the data by specified column\n",
    "df['stoptime'].sort_values()[:5]"
   ]
  },
  {
   "cell_type": "code",
   "execution_count": 30,
   "metadata": {
    "collapsed": false
   },
   "outputs": [
    {
     "data": {
      "text/html": [
       "<div>\n",
       "<table border=\"1\" class=\"dataframe\">\n",
       "  <thead>\n",
       "    <tr style=\"text-align: right;\">\n",
       "      <th></th>\n",
       "      <th>trip_id</th>\n",
       "      <th>starttime</th>\n",
       "      <th>stoptime</th>\n",
       "      <th>bikeid</th>\n",
       "      <th>tripduration</th>\n",
       "      <th>from_station_name</th>\n",
       "      <th>to_station_name</th>\n",
       "    </tr>\n",
       "  </thead>\n",
       "  <tbody>\n",
       "    <tr>\n",
       "      <th>8585</th>\n",
       "      <td>10552</td>\n",
       "      <td>11/7/2014 8:53</td>\n",
       "      <td>11/7/2014 9:02</td>\n",
       "      <td>SEA00297</td>\n",
       "      <td>510.718</td>\n",
       "      <td>12th Ave &amp; E Denny Way</td>\n",
       "      <td>2nd Ave &amp; Spring St</td>\n",
       "    </tr>\n",
       "    <tr>\n",
       "      <th>118226</th>\n",
       "      <td>130732</td>\n",
       "      <td>8/18/2015 9:11</td>\n",
       "      <td>8/18/2015 9:17</td>\n",
       "      <td>SEA00258</td>\n",
       "      <td>318.384</td>\n",
       "      <td>12th Ave &amp; E Denny Way</td>\n",
       "      <td>Pine St &amp; 9th Ave</td>\n",
       "    </tr>\n",
       "    <tr>\n",
       "      <th>137403</th>\n",
       "      <td>151046</td>\n",
       "      <td>9/29/2015 7:40</td>\n",
       "      <td>9/29/2015 7:44</td>\n",
       "      <td>SEA00226</td>\n",
       "      <td>218.550</td>\n",
       "      <td>12th Ave &amp; E Denny Way</td>\n",
       "      <td>Bellevue Ave &amp; E Pine St</td>\n",
       "    </tr>\n",
       "  </tbody>\n",
       "</table>\n",
       "</div>"
      ],
      "text/plain": [
       "        trip_id       starttime        stoptime    bikeid  tripduration  \\\n",
       "8585      10552  11/7/2014 8:53  11/7/2014 9:02  SEA00297       510.718   \n",
       "118226   130732  8/18/2015 9:11  8/18/2015 9:17  SEA00258       318.384   \n",
       "137403   151046  9/29/2015 7:40  9/29/2015 7:44  SEA00226       218.550   \n",
       "\n",
       "             from_station_name           to_station_name  \n",
       "8585    12th Ave & E Denny Way       2nd Ave & Spring St  \n",
       "118226  12th Ave & E Denny Way         Pine St & 9th Ave  \n",
       "137403  12th Ave & E Denny Way  Bellevue Ave & E Pine St  "
      ]
     },
     "execution_count": 30,
     "metadata": {},
     "output_type": "execute_result"
    }
   ],
   "source": [
    "# Sort by a column and that obtain a cross-section of that data\n",
    "sorteddata = df.sort_values(['from_station_name'])\n",
    "sorteddata.ix[:,0:7].head(3)  # 0:7 displays the first 7 columns"
   ]
  },
  {
   "cell_type": "code",
   "execution_count": 31,
   "metadata": {
    "collapsed": false
   },
   "outputs": [
    {
     "data": {
      "text/html": [
       "<div>\n",
       "<table border=\"1\" class=\"dataframe\">\n",
       "  <thead>\n",
       "    <tr style=\"text-align: right;\">\n",
       "      <th></th>\n",
       "      <th>trip_id</th>\n",
       "      <th>starttime</th>\n",
       "      <th>stoptime</th>\n",
       "    </tr>\n",
       "  </thead>\n",
       "  <tbody>\n",
       "    <tr>\n",
       "      <th>8585</th>\n",
       "      <td>10552</td>\n",
       "      <td>11/7/2014 8:53</td>\n",
       "      <td>11/7/2014 9:02</td>\n",
       "    </tr>\n",
       "    <tr>\n",
       "      <th>118226</th>\n",
       "      <td>130732</td>\n",
       "      <td>8/18/2015 9:11</td>\n",
       "      <td>8/18/2015 9:17</td>\n",
       "    </tr>\n",
       "    <tr>\n",
       "      <th>137403</th>\n",
       "      <td>151046</td>\n",
       "      <td>9/29/2015 7:40</td>\n",
       "      <td>9/29/2015 7:44</td>\n",
       "    </tr>\n",
       "  </tbody>\n",
       "</table>\n",
       "</div>"
      ],
      "text/plain": [
       "        trip_id       starttime        stoptime\n",
       "8585      10552  11/7/2014 8:53  11/7/2014 9:02\n",
       "118226   130732  8/18/2015 9:11  8/18/2015 9:17\n",
       "137403   151046  9/29/2015 7:40  9/29/2015 7:44"
      ]
     },
     "execution_count": 31,
     "metadata": {},
     "output_type": "execute_result"
    }
   ],
   "source": [
    "# Obtain the first three rows and first three columns of the sorted data\n",
    "sorteddata.iloc[0:3,0:3]"
   ]
  },
  {
   "cell_type": "code",
   "execution_count": 33,
   "metadata": {
    "collapsed": false
   },
   "outputs": [
    {
     "data": {
      "text/plain": [
       "Pier 69 / Alaskan Way & Clay St                         7212\n",
       "2nd Ave & Pine St                                       7189\n",
       "3rd Ave & Broad St                                      5800\n",
       "PATH / 9th Ave & Westlake Ave                           5390\n",
       "Westlake Ave & 6th Ave                                  5328\n",
       "Pine St & 9th Ave                                       4842\n",
       "Occidental Park / Occidental Ave S & S Washington St    4719\n",
       "Republican St & Westlake Ave N                          4680\n",
       "2nd Ave & Spring St                                     4567\n",
       "Seattle Aquarium / Alaskan Way S & Elliott Bay Trail    4419\n",
       "Name: to_station_name, dtype: int64"
      ]
     },
     "execution_count": 33,
     "metadata": {},
     "output_type": "execute_result"
    }
   ],
   "source": [
    "# Obtain value counts of specifiec column\n",
    "df['to_station_name'].value_counts().head(10)"
   ]
  },
  {
   "cell_type": "code",
   "execution_count": 34,
   "metadata": {
    "collapsed": true
   },
   "outputs": [],
   "source": [
    "# pandas.DatetimeIndex's attribute dayofweek is encoded: Monday=0, Sunday=6\n",
    "df[\"from_day_of_week\"] = pd.DatetimeIndex(df['starttime']).dayofweek"
   ]
  },
  {
   "cell_type": "code",
   "execution_count": 36,
   "metadata": {
    "collapsed": false
   },
   "outputs": [
    {
     "data": {
      "text/plain": [
       "3    21505\n",
       "0    21266\n",
       "4    21097\n",
       "2    20748\n",
       "1    20465\n",
       "5    20358\n",
       "6    17407\n",
       "Name: from_day_of_week, dtype: int64"
      ]
     },
     "execution_count": 36,
     "metadata": {},
     "output_type": "execute_result"
    }
   ],
   "source": [
    "df['from_day_of_week'].value_counts()"
   ]
  },
  {
   "cell_type": "code",
   "execution_count": 37,
   "metadata": {
    "collapsed": false
   },
   "outputs": [
    {
     "data": {
      "text/html": [
       "<div>\n",
       "<table border=\"1\" class=\"dataframe\">\n",
       "  <thead>\n",
       "    <tr style=\"text-align: right;\">\n",
       "      <th></th>\n",
       "      <th></th>\n",
       "      <th>trip_id</th>\n",
       "      <th>tripduration</th>\n",
       "      <th>birthyear</th>\n",
       "    </tr>\n",
       "    <tr>\n",
       "      <th>from_station_id</th>\n",
       "      <th>from_day_of_week</th>\n",
       "      <th></th>\n",
       "      <th></th>\n",
       "      <th></th>\n",
       "    </tr>\n",
       "  </thead>\n",
       "  <tbody>\n",
       "    <tr>\n",
       "      <th rowspan=\"7\" valign=\"top\">BT-01</th>\n",
       "      <th>0</th>\n",
       "      <td>73219212</td>\n",
       "      <td>1087407.458</td>\n",
       "      <td>683297.0</td>\n",
       "    </tr>\n",
       "    <tr>\n",
       "      <th>1</th>\n",
       "      <td>64999095</td>\n",
       "      <td>874698.539</td>\n",
       "      <td>716551.0</td>\n",
       "    </tr>\n",
       "    <tr>\n",
       "      <th>2</th>\n",
       "      <td>61375436</td>\n",
       "      <td>748692.088</td>\n",
       "      <td>704531.0</td>\n",
       "    </tr>\n",
       "    <tr>\n",
       "      <th>3</th>\n",
       "      <td>71440581</td>\n",
       "      <td>1032376.997</td>\n",
       "      <td>745795.0</td>\n",
       "    </tr>\n",
       "    <tr>\n",
       "      <th>4</th>\n",
       "      <td>83592578</td>\n",
       "      <td>1142537.563</td>\n",
       "      <td>748348.0</td>\n",
       "    </tr>\n",
       "    <tr>\n",
       "      <th>5</th>\n",
       "      <td>98450694</td>\n",
       "      <td>2072729.019</td>\n",
       "      <td>435736.0</td>\n",
       "    </tr>\n",
       "    <tr>\n",
       "      <th>6</th>\n",
       "      <td>71798189</td>\n",
       "      <td>1441277.253</td>\n",
       "      <td>348496.0</td>\n",
       "    </tr>\n",
       "    <tr>\n",
       "      <th rowspan=\"3\" valign=\"top\">BT-03</th>\n",
       "      <th>0</th>\n",
       "      <td>43760254</td>\n",
       "      <td>508713.798</td>\n",
       "      <td>783005.0</td>\n",
       "    </tr>\n",
       "    <tr>\n",
       "      <th>1</th>\n",
       "      <td>45665145</td>\n",
       "      <td>548347.104</td>\n",
       "      <td>897873.0</td>\n",
       "    </tr>\n",
       "    <tr>\n",
       "      <th>2</th>\n",
       "      <td>47019881</td>\n",
       "      <td>479407.987</td>\n",
       "      <td>976895.0</td>\n",
       "    </tr>\n",
       "  </tbody>\n",
       "</table>\n",
       "</div>"
      ],
      "text/plain": [
       "                                   trip_id  tripduration  birthyear\n",
       "from_station_id from_day_of_week                                   \n",
       "BT-01           0                 73219212   1087407.458   683297.0\n",
       "                1                 64999095    874698.539   716551.0\n",
       "                2                 61375436    748692.088   704531.0\n",
       "                3                 71440581   1032376.997   745795.0\n",
       "                4                 83592578   1142537.563   748348.0\n",
       "                5                 98450694   2072729.019   435736.0\n",
       "                6                 71798189   1441277.253   348496.0\n",
       "BT-03           0                 43760254    508713.798   783005.0\n",
       "                1                 45665145    548347.104   897873.0\n",
       "                2                 47019881    479407.987   976895.0"
      ]
     },
     "execution_count": 37,
     "metadata": {},
     "output_type": "execute_result"
    }
   ],
   "source": [
    "stationDayCounts = df.groupby(['from_station_id','from_day_of_week']).sum()\n",
    "stationDayCounts.head(10)"
   ]
  },
  {
   "cell_type": "code",
   "execution_count": 38,
   "metadata": {
    "collapsed": false
   },
   "outputs": [
    {
     "data": {
      "text/html": [
       "<div>\n",
       "<table border=\"1\" class=\"dataframe\">\n",
       "  <thead>\n",
       "    <tr style=\"text-align: right;\">\n",
       "      <th></th>\n",
       "      <th></th>\n",
       "      <th>trip_id</th>\n",
       "      <th>starttime</th>\n",
       "      <th>stoptime</th>\n",
       "      <th>bikeid</th>\n",
       "      <th>tripduration</th>\n",
       "      <th>from_station_name</th>\n",
       "      <th>to_station_name</th>\n",
       "      <th>to_station_id</th>\n",
       "      <th>usertype</th>\n",
       "      <th>gender</th>\n",
       "      <th>birthyear</th>\n",
       "    </tr>\n",
       "    <tr>\n",
       "      <th>from_station_id</th>\n",
       "      <th>from_day_of_week</th>\n",
       "      <th></th>\n",
       "      <th></th>\n",
       "      <th></th>\n",
       "      <th></th>\n",
       "      <th></th>\n",
       "      <th></th>\n",
       "      <th></th>\n",
       "      <th></th>\n",
       "      <th></th>\n",
       "      <th></th>\n",
       "      <th></th>\n",
       "    </tr>\n",
       "  </thead>\n",
       "  <tbody>\n",
       "    <tr>\n",
       "      <th rowspan=\"7\" valign=\"top\">BT-01</th>\n",
       "      <th>0</th>\n",
       "      <td>806</td>\n",
       "      <td>806</td>\n",
       "      <td>806</td>\n",
       "      <td>806</td>\n",
       "      <td>806</td>\n",
       "      <td>806</td>\n",
       "      <td>806</td>\n",
       "      <td>806</td>\n",
       "      <td>806</td>\n",
       "      <td>345</td>\n",
       "      <td>345</td>\n",
       "    </tr>\n",
       "    <tr>\n",
       "      <th>1</th>\n",
       "      <td>724</td>\n",
       "      <td>724</td>\n",
       "      <td>724</td>\n",
       "      <td>724</td>\n",
       "      <td>724</td>\n",
       "      <td>724</td>\n",
       "      <td>724</td>\n",
       "      <td>724</td>\n",
       "      <td>724</td>\n",
       "      <td>362</td>\n",
       "      <td>362</td>\n",
       "    </tr>\n",
       "    <tr>\n",
       "      <th>2</th>\n",
       "      <td>679</td>\n",
       "      <td>679</td>\n",
       "      <td>679</td>\n",
       "      <td>679</td>\n",
       "      <td>679</td>\n",
       "      <td>679</td>\n",
       "      <td>679</td>\n",
       "      <td>679</td>\n",
       "      <td>679</td>\n",
       "      <td>356</td>\n",
       "      <td>356</td>\n",
       "    </tr>\n",
       "    <tr>\n",
       "      <th>3</th>\n",
       "      <td>801</td>\n",
       "      <td>801</td>\n",
       "      <td>801</td>\n",
       "      <td>801</td>\n",
       "      <td>801</td>\n",
       "      <td>801</td>\n",
       "      <td>801</td>\n",
       "      <td>801</td>\n",
       "      <td>801</td>\n",
       "      <td>377</td>\n",
       "      <td>377</td>\n",
       "    </tr>\n",
       "    <tr>\n",
       "      <th>4</th>\n",
       "      <td>921</td>\n",
       "      <td>921</td>\n",
       "      <td>921</td>\n",
       "      <td>921</td>\n",
       "      <td>921</td>\n",
       "      <td>921</td>\n",
       "      <td>921</td>\n",
       "      <td>921</td>\n",
       "      <td>921</td>\n",
       "      <td>378</td>\n",
       "      <td>378</td>\n",
       "    </tr>\n",
       "    <tr>\n",
       "      <th>5</th>\n",
       "      <td>1148</td>\n",
       "      <td>1148</td>\n",
       "      <td>1148</td>\n",
       "      <td>1148</td>\n",
       "      <td>1148</td>\n",
       "      <td>1148</td>\n",
       "      <td>1148</td>\n",
       "      <td>1148</td>\n",
       "      <td>1148</td>\n",
       "      <td>220</td>\n",
       "      <td>220</td>\n",
       "    </tr>\n",
       "    <tr>\n",
       "      <th>6</th>\n",
       "      <td>806</td>\n",
       "      <td>806</td>\n",
       "      <td>806</td>\n",
       "      <td>806</td>\n",
       "      <td>806</td>\n",
       "      <td>806</td>\n",
       "      <td>806</td>\n",
       "      <td>806</td>\n",
       "      <td>806</td>\n",
       "      <td>176</td>\n",
       "      <td>176</td>\n",
       "    </tr>\n",
       "    <tr>\n",
       "      <th rowspan=\"3\" valign=\"top\">BT-03</th>\n",
       "      <th>0</th>\n",
       "      <td>577</td>\n",
       "      <td>577</td>\n",
       "      <td>577</td>\n",
       "      <td>577</td>\n",
       "      <td>577</td>\n",
       "      <td>577</td>\n",
       "      <td>577</td>\n",
       "      <td>577</td>\n",
       "      <td>577</td>\n",
       "      <td>396</td>\n",
       "      <td>396</td>\n",
       "    </tr>\n",
       "    <tr>\n",
       "      <th>1</th>\n",
       "      <td>594</td>\n",
       "      <td>594</td>\n",
       "      <td>594</td>\n",
       "      <td>594</td>\n",
       "      <td>594</td>\n",
       "      <td>594</td>\n",
       "      <td>594</td>\n",
       "      <td>594</td>\n",
       "      <td>594</td>\n",
       "      <td>454</td>\n",
       "      <td>454</td>\n",
       "    </tr>\n",
       "    <tr>\n",
       "      <th>2</th>\n",
       "      <td>620</td>\n",
       "      <td>620</td>\n",
       "      <td>620</td>\n",
       "      <td>620</td>\n",
       "      <td>620</td>\n",
       "      <td>620</td>\n",
       "      <td>620</td>\n",
       "      <td>620</td>\n",
       "      <td>620</td>\n",
       "      <td>494</td>\n",
       "      <td>494</td>\n",
       "    </tr>\n",
       "  </tbody>\n",
       "</table>\n",
       "</div>"
      ],
      "text/plain": [
       "                                  trip_id  starttime  stoptime  bikeid  \\\n",
       "from_station_id from_day_of_week                                         \n",
       "BT-01           0                     806        806       806     806   \n",
       "                1                     724        724       724     724   \n",
       "                2                     679        679       679     679   \n",
       "                3                     801        801       801     801   \n",
       "                4                     921        921       921     921   \n",
       "                5                    1148       1148      1148    1148   \n",
       "                6                     806        806       806     806   \n",
       "BT-03           0                     577        577       577     577   \n",
       "                1                     594        594       594     594   \n",
       "                2                     620        620       620     620   \n",
       "\n",
       "                                  tripduration  from_station_name  \\\n",
       "from_station_id from_day_of_week                                    \n",
       "BT-01           0                          806                806   \n",
       "                1                          724                724   \n",
       "                2                          679                679   \n",
       "                3                          801                801   \n",
       "                4                          921                921   \n",
       "                5                         1148               1148   \n",
       "                6                          806                806   \n",
       "BT-03           0                          577                577   \n",
       "                1                          594                594   \n",
       "                2                          620                620   \n",
       "\n",
       "                                  to_station_name  to_station_id  usertype  \\\n",
       "from_station_id from_day_of_week                                             \n",
       "BT-01           0                             806            806       806   \n",
       "                1                             724            724       724   \n",
       "                2                             679            679       679   \n",
       "                3                             801            801       801   \n",
       "                4                             921            921       921   \n",
       "                5                            1148           1148      1148   \n",
       "                6                             806            806       806   \n",
       "BT-03           0                             577            577       577   \n",
       "                1                             594            594       594   \n",
       "                2                             620            620       620   \n",
       "\n",
       "                                  gender  birthyear  \n",
       "from_station_id from_day_of_week                     \n",
       "BT-01           0                    345        345  \n",
       "                1                    362        362  \n",
       "                2                    356        356  \n",
       "                3                    377        377  \n",
       "                4                    378        378  \n",
       "                5                    220        220  \n",
       "                6                    176        176  \n",
       "BT-03           0                    396        396  \n",
       "                1                    454        454  \n",
       "                2                    494        494  "
      ]
     },
     "execution_count": 38,
     "metadata": {},
     "output_type": "execute_result"
    }
   ],
   "source": [
    "stationDayCounts = df.groupby(['from_station_id','from_day_of_week']).count()\n",
    "stationDayCounts.head(10)"
   ]
  },
  {
   "cell_type": "code",
   "execution_count": 39,
   "metadata": {
    "collapsed": false
   },
   "outputs": [
    {
     "data": {
      "text/html": [
       "<div>\n",
       "<table border=\"1\" class=\"dataframe\">\n",
       "  <thead>\n",
       "    <tr style=\"text-align: right;\">\n",
       "      <th></th>\n",
       "      <th></th>\n",
       "      <th>trip_id</th>\n",
       "      <th>tripduration</th>\n",
       "      <th>birthyear</th>\n",
       "    </tr>\n",
       "    <tr>\n",
       "      <th>from_station_id</th>\n",
       "      <th>from_day_of_week</th>\n",
       "      <th></th>\n",
       "      <th></th>\n",
       "      <th></th>\n",
       "    </tr>\n",
       "  </thead>\n",
       "  <tbody>\n",
       "    <tr>\n",
       "      <th rowspan=\"7\" valign=\"top\">BT-01</th>\n",
       "      <th>0</th>\n",
       "      <td>90842.694789</td>\n",
       "      <td>1349.140767</td>\n",
       "      <td>1980.571014</td>\n",
       "    </tr>\n",
       "    <tr>\n",
       "      <th>1</th>\n",
       "      <td>89777.755525</td>\n",
       "      <td>1208.147153</td>\n",
       "      <td>1979.422652</td>\n",
       "    </tr>\n",
       "    <tr>\n",
       "      <th>2</th>\n",
       "      <td>90390.921944</td>\n",
       "      <td>1102.639305</td>\n",
       "      <td>1979.019663</td>\n",
       "    </tr>\n",
       "    <tr>\n",
       "      <th>3</th>\n",
       "      <td>89189.239700</td>\n",
       "      <td>1288.860171</td>\n",
       "      <td>1978.236074</td>\n",
       "    </tr>\n",
       "    <tr>\n",
       "      <th>4</th>\n",
       "      <td>90762.842562</td>\n",
       "      <td>1240.540242</td>\n",
       "      <td>1979.756614</td>\n",
       "    </tr>\n",
       "    <tr>\n",
       "      <th>5</th>\n",
       "      <td>85758.444251</td>\n",
       "      <td>1805.513083</td>\n",
       "      <td>1980.618182</td>\n",
       "    </tr>\n",
       "    <tr>\n",
       "      <th>6</th>\n",
       "      <td>89079.638958</td>\n",
       "      <td>1788.185177</td>\n",
       "      <td>1980.090909</td>\n",
       "    </tr>\n",
       "    <tr>\n",
       "      <th rowspan=\"3\" valign=\"top\">BT-03</th>\n",
       "      <th>0</th>\n",
       "      <td>75840.994801</td>\n",
       "      <td>881.653029</td>\n",
       "      <td>1977.285354</td>\n",
       "    </tr>\n",
       "    <tr>\n",
       "      <th>1</th>\n",
       "      <td>76877.348485</td>\n",
       "      <td>923.143273</td>\n",
       "      <td>1977.693833</td>\n",
       "    </tr>\n",
       "    <tr>\n",
       "      <th>2</th>\n",
       "      <td>75838.517742</td>\n",
       "      <td>773.238689</td>\n",
       "      <td>1977.520243</td>\n",
       "    </tr>\n",
       "  </tbody>\n",
       "</table>\n",
       "</div>"
      ],
      "text/plain": [
       "                                       trip_id  tripduration    birthyear\n",
       "from_station_id from_day_of_week                                         \n",
       "BT-01           0                 90842.694789   1349.140767  1980.571014\n",
       "                1                 89777.755525   1208.147153  1979.422652\n",
       "                2                 90390.921944   1102.639305  1979.019663\n",
       "                3                 89189.239700   1288.860171  1978.236074\n",
       "                4                 90762.842562   1240.540242  1979.756614\n",
       "                5                 85758.444251   1805.513083  1980.618182\n",
       "                6                 89079.638958   1788.185177  1980.090909\n",
       "BT-03           0                 75840.994801    881.653029  1977.285354\n",
       "                1                 76877.348485    923.143273  1977.693833\n",
       "                2                 75838.517742    773.238689  1977.520243"
      ]
     },
     "execution_count": 39,
     "metadata": {},
     "output_type": "execute_result"
    }
   ],
   "source": [
    "stationDayAvg = df.groupby(['from_station_id','from_day_of_week']).mean()\n",
    "stationDayAvg.head(10)"
   ]
  },
  {
   "cell_type": "code",
   "execution_count": 48,
   "metadata": {
    "collapsed": true
   },
   "outputs": [],
   "source": [
    "df[\"from_date\"] = pd.DatetimeIndex(df['starttime']).date\n",
    "df[\"from_year\"] = pd.DatetimeIndex(df['starttime']).year"
   ]
  },
  {
   "cell_type": "code",
   "execution_count": 52,
   "metadata": {
    "collapsed": false
   },
   "outputs": [
    {
     "data": {
      "text/html": [
       "<div>\n",
       "<table border=\"1\" class=\"dataframe\">\n",
       "  <thead>\n",
       "    <tr style=\"text-align: right;\">\n",
       "      <th></th>\n",
       "      <th></th>\n",
       "      <th>trip_id</th>\n",
       "      <th>starttime</th>\n",
       "      <th>stoptime</th>\n",
       "      <th>bikeid</th>\n",
       "      <th>tripduration</th>\n",
       "      <th>from_station_name</th>\n",
       "      <th>to_station_name</th>\n",
       "      <th>from_station_id</th>\n",
       "      <th>to_station_id</th>\n",
       "      <th>usertype</th>\n",
       "      <th>gender</th>\n",
       "      <th>birthyear</th>\n",
       "      <th>from_date</th>\n",
       "    </tr>\n",
       "    <tr>\n",
       "      <th>from_year</th>\n",
       "      <th>from_day_of_week</th>\n",
       "      <th></th>\n",
       "      <th></th>\n",
       "      <th></th>\n",
       "      <th></th>\n",
       "      <th></th>\n",
       "      <th></th>\n",
       "      <th></th>\n",
       "      <th></th>\n",
       "      <th></th>\n",
       "      <th></th>\n",
       "      <th></th>\n",
       "      <th></th>\n",
       "      <th></th>\n",
       "    </tr>\n",
       "  </thead>\n",
       "  <tbody>\n",
       "    <tr>\n",
       "      <th rowspan=\"7\" valign=\"top\">2014</th>\n",
       "      <th>0</th>\n",
       "      <td>3373</td>\n",
       "      <td>3373</td>\n",
       "      <td>3373</td>\n",
       "      <td>3373</td>\n",
       "      <td>3373</td>\n",
       "      <td>3373</td>\n",
       "      <td>3373</td>\n",
       "      <td>3373</td>\n",
       "      <td>3373</td>\n",
       "      <td>3373</td>\n",
       "      <td>2542</td>\n",
       "      <td>2542</td>\n",
       "      <td>3373</td>\n",
       "    </tr>\n",
       "    <tr>\n",
       "      <th>1</th>\n",
       "      <td>3209</td>\n",
       "      <td>3209</td>\n",
       "      <td>3209</td>\n",
       "      <td>3209</td>\n",
       "      <td>3209</td>\n",
       "      <td>3209</td>\n",
       "      <td>3209</td>\n",
       "      <td>3209</td>\n",
       "      <td>3209</td>\n",
       "      <td>3209</td>\n",
       "      <td>2465</td>\n",
       "      <td>2465</td>\n",
       "      <td>3209</td>\n",
       "    </tr>\n",
       "    <tr>\n",
       "      <th>2</th>\n",
       "      <td>2996</td>\n",
       "      <td>2996</td>\n",
       "      <td>2996</td>\n",
       "      <td>2996</td>\n",
       "      <td>2996</td>\n",
       "      <td>2996</td>\n",
       "      <td>2996</td>\n",
       "      <td>2996</td>\n",
       "      <td>2996</td>\n",
       "      <td>2996</td>\n",
       "      <td>2372</td>\n",
       "      <td>2372</td>\n",
       "      <td>2996</td>\n",
       "    </tr>\n",
       "    <tr>\n",
       "      <th>3</th>\n",
       "      <td>2616</td>\n",
       "      <td>2616</td>\n",
       "      <td>2616</td>\n",
       "      <td>2616</td>\n",
       "      <td>2616</td>\n",
       "      <td>2616</td>\n",
       "      <td>2616</td>\n",
       "      <td>2616</td>\n",
       "      <td>2616</td>\n",
       "      <td>2616</td>\n",
       "      <td>1977</td>\n",
       "      <td>1977</td>\n",
       "      <td>2616</td>\n",
       "    </tr>\n",
       "    <tr>\n",
       "      <th>4</th>\n",
       "      <td>2736</td>\n",
       "      <td>2736</td>\n",
       "      <td>2736</td>\n",
       "      <td>2736</td>\n",
       "      <td>2736</td>\n",
       "      <td>2736</td>\n",
       "      <td>2736</td>\n",
       "      <td>2736</td>\n",
       "      <td>2736</td>\n",
       "      <td>2736</td>\n",
       "      <td>2013</td>\n",
       "      <td>2013</td>\n",
       "      <td>2736</td>\n",
       "    </tr>\n",
       "    <tr>\n",
       "      <th>5</th>\n",
       "      <td>2684</td>\n",
       "      <td>2684</td>\n",
       "      <td>2684</td>\n",
       "      <td>2684</td>\n",
       "      <td>2684</td>\n",
       "      <td>2684</td>\n",
       "      <td>2684</td>\n",
       "      <td>2684</td>\n",
       "      <td>2684</td>\n",
       "      <td>2684</td>\n",
       "      <td>1239</td>\n",
       "      <td>1239</td>\n",
       "      <td>2684</td>\n",
       "    </tr>\n",
       "    <tr>\n",
       "      <th>6</th>\n",
       "      <td>2625</td>\n",
       "      <td>2625</td>\n",
       "      <td>2625</td>\n",
       "      <td>2625</td>\n",
       "      <td>2625</td>\n",
       "      <td>2625</td>\n",
       "      <td>2625</td>\n",
       "      <td>2625</td>\n",
       "      <td>2625</td>\n",
       "      <td>2625</td>\n",
       "      <td>1271</td>\n",
       "      <td>1271</td>\n",
       "      <td>2625</td>\n",
       "    </tr>\n",
       "    <tr>\n",
       "      <th rowspan=\"3\" valign=\"top\">2015</th>\n",
       "      <th>0</th>\n",
       "      <td>17893</td>\n",
       "      <td>17893</td>\n",
       "      <td>17893</td>\n",
       "      <td>17893</td>\n",
       "      <td>17893</td>\n",
       "      <td>17893</td>\n",
       "      <td>17893</td>\n",
       "      <td>17893</td>\n",
       "      <td>17893</td>\n",
       "      <td>17893</td>\n",
       "      <td>11600</td>\n",
       "      <td>11600</td>\n",
       "      <td>17893</td>\n",
       "    </tr>\n",
       "    <tr>\n",
       "      <th>1</th>\n",
       "      <td>17256</td>\n",
       "      <td>17256</td>\n",
       "      <td>17256</td>\n",
       "      <td>17256</td>\n",
       "      <td>17256</td>\n",
       "      <td>17256</td>\n",
       "      <td>17256</td>\n",
       "      <td>17256</td>\n",
       "      <td>17256</td>\n",
       "      <td>17256</td>\n",
       "      <td>12830</td>\n",
       "      <td>12830</td>\n",
       "      <td>17256</td>\n",
       "    </tr>\n",
       "    <tr>\n",
       "      <th>2</th>\n",
       "      <td>17752</td>\n",
       "      <td>17752</td>\n",
       "      <td>17752</td>\n",
       "      <td>17752</td>\n",
       "      <td>17752</td>\n",
       "      <td>17752</td>\n",
       "      <td>17752</td>\n",
       "      <td>17752</td>\n",
       "      <td>17752</td>\n",
       "      <td>17752</td>\n",
       "      <td>13066</td>\n",
       "      <td>13066</td>\n",
       "      <td>17752</td>\n",
       "    </tr>\n",
       "  </tbody>\n",
       "</table>\n",
       "</div>"
      ],
      "text/plain": [
       "                            trip_id  starttime  stoptime  bikeid  \\\n",
       "from_year from_day_of_week                                         \n",
       "2014      0                    3373       3373      3373    3373   \n",
       "          1                    3209       3209      3209    3209   \n",
       "          2                    2996       2996      2996    2996   \n",
       "          3                    2616       2616      2616    2616   \n",
       "          4                    2736       2736      2736    2736   \n",
       "          5                    2684       2684      2684    2684   \n",
       "          6                    2625       2625      2625    2625   \n",
       "2015      0                   17893      17893     17893   17893   \n",
       "          1                   17256      17256     17256   17256   \n",
       "          2                   17752      17752     17752   17752   \n",
       "\n",
       "                            tripduration  from_station_name  to_station_name  \\\n",
       "from_year from_day_of_week                                                     \n",
       "2014      0                         3373               3373             3373   \n",
       "          1                         3209               3209             3209   \n",
       "          2                         2996               2996             2996   \n",
       "          3                         2616               2616             2616   \n",
       "          4                         2736               2736             2736   \n",
       "          5                         2684               2684             2684   \n",
       "          6                         2625               2625             2625   \n",
       "2015      0                        17893              17893            17893   \n",
       "          1                        17256              17256            17256   \n",
       "          2                        17752              17752            17752   \n",
       "\n",
       "                            from_station_id  to_station_id  usertype  gender  \\\n",
       "from_year from_day_of_week                                                     \n",
       "2014      0                            3373           3373      3373    2542   \n",
       "          1                            3209           3209      3209    2465   \n",
       "          2                            2996           2996      2996    2372   \n",
       "          3                            2616           2616      2616    1977   \n",
       "          4                            2736           2736      2736    2013   \n",
       "          5                            2684           2684      2684    1239   \n",
       "          6                            2625           2625      2625    1271   \n",
       "2015      0                           17893          17893     17893   11600   \n",
       "          1                           17256          17256     17256   12830   \n",
       "          2                           17752          17752     17752   13066   \n",
       "\n",
       "                            birthyear  from_date  \n",
       "from_year from_day_of_week                        \n",
       "2014      0                      2542       3373  \n",
       "          1                      2465       3209  \n",
       "          2                      2372       2996  \n",
       "          3                      1977       2616  \n",
       "          4                      2013       2736  \n",
       "          5                      1239       2684  \n",
       "          6                      1271       2625  \n",
       "2015      0                     11600      17893  \n",
       "          1                     12830      17256  \n",
       "          2                     13066      17752  "
      ]
     },
     "execution_count": 52,
     "metadata": {},
     "output_type": "execute_result"
    }
   ],
   "source": [
    "# max number of rows = 142846\n",
    "days = df.groupby(['from_year','from_day_of_week']).count()\n",
    "days[\"trip_id\"].sum() # 142846\n",
    "days.head(10)\n",
    "#days['from_day_of_week'].count().head(10)\n"
   ]
  },
  {
   "cell_type": "code",
   "execution_count": 86,
   "metadata": {
    "collapsed": true
   },
   "outputs": [],
   "source": [
    "df[\"to_day_of_week\"] = pd.DatetimeIndex(df['stoptime']).dayofweek\n",
    "df[\"to_date\"] = pd.DatetimeIndex(df['stoptime']).date\n",
    "df[\"to_year\"] = pd.DatetimeIndex(df['stoptime']).year"
   ]
  },
  {
   "cell_type": "code",
   "execution_count": 98,
   "metadata": {
    "collapsed": false
   },
   "outputs": [
    {
     "data": {
      "text/plain": [
       "to_date     to_day_of_week  to_station_id\n",
       "2014-10-13  0               BT-01             6\n",
       "                            BT-03            11\n",
       "                            BT-04             3\n",
       "                            BT-05             6\n",
       "                            CBD-03           16\n",
       "Name: stoptime, dtype: int64"
      ]
     },
     "execution_count": 98,
     "metadata": {},
     "output_type": "execute_result"
    }
   ],
   "source": [
    "fromData = df.groupby(['from_date', 'from_day_of_week', 'from_station_id'])['starttime'].count()\n",
    "toData = df.groupby(['to_date', 'to_day_of_week', 'to_station_id'])['stoptime'].count()\n",
    "fromData.head(5)\n",
    "toData.head(5)\n",
    "# list(map(operator.sub, toData, fromData))"
   ]
  },
  {
   "cell_type": "code",
   "execution_count": 103,
   "metadata": {
    "collapsed": false
   },
   "outputs": [
    {
     "data": {
      "text/html": [
       "<div>\n",
       "<table border=\"1\" class=\"dataframe\">\n",
       "  <thead>\n",
       "    <tr>\n",
       "      <th></th>\n",
       "      <th colspan=\"10\" halign=\"left\">2014-10-13</th>\n",
       "      <th>...</th>\n",
       "      <th colspan=\"10\" halign=\"left\">2015-10-12</th>\n",
       "    </tr>\n",
       "    <tr>\n",
       "      <th></th>\n",
       "      <th colspan=\"10\" halign=\"left\">0</th>\n",
       "      <th>...</th>\n",
       "      <th colspan=\"10\" halign=\"left\">0</th>\n",
       "    </tr>\n",
       "    <tr>\n",
       "      <th></th>\n",
       "      <th>BT-01</th>\n",
       "      <th>BT-03</th>\n",
       "      <th>BT-04</th>\n",
       "      <th>BT-05</th>\n",
       "      <th>CBD-03</th>\n",
       "      <th>CBD-05</th>\n",
       "      <th>CBD-06</th>\n",
       "      <th>CBD-07</th>\n",
       "      <th>CBD-13</th>\n",
       "      <th>CH-01</th>\n",
       "      <th>...</th>\n",
       "      <th>UD-02</th>\n",
       "      <th>UD-04</th>\n",
       "      <th>UD-07</th>\n",
       "      <th>UW-02</th>\n",
       "      <th>UW-04</th>\n",
       "      <th>UW-06</th>\n",
       "      <th>UW-07</th>\n",
       "      <th>UW-10</th>\n",
       "      <th>WF-01</th>\n",
       "      <th>WF-04</th>\n",
       "    </tr>\n",
       "  </thead>\n",
       "  <tbody>\n",
       "    <tr>\n",
       "      <th>stoptime</th>\n",
       "      <td>NaN</td>\n",
       "      <td>NaN</td>\n",
       "      <td>NaN</td>\n",
       "      <td>NaN</td>\n",
       "      <td>NaN</td>\n",
       "      <td>NaN</td>\n",
       "      <td>NaN</td>\n",
       "      <td>NaN</td>\n",
       "      <td>NaN</td>\n",
       "      <td>NaN</td>\n",
       "      <td>...</td>\n",
       "      <td>NaN</td>\n",
       "      <td>NaN</td>\n",
       "      <td>NaN</td>\n",
       "      <td>NaN</td>\n",
       "      <td>NaN</td>\n",
       "      <td>NaN</td>\n",
       "      <td>NaN</td>\n",
       "      <td>NaN</td>\n",
       "      <td>NaN</td>\n",
       "      <td>NaN</td>\n",
       "    </tr>\n",
       "    <tr>\n",
       "      <th>starttime</th>\n",
       "      <td>NaN</td>\n",
       "      <td>NaN</td>\n",
       "      <td>NaN</td>\n",
       "      <td>NaN</td>\n",
       "      <td>NaN</td>\n",
       "      <td>NaN</td>\n",
       "      <td>NaN</td>\n",
       "      <td>NaN</td>\n",
       "      <td>NaN</td>\n",
       "      <td>NaN</td>\n",
       "      <td>...</td>\n",
       "      <td>NaN</td>\n",
       "      <td>NaN</td>\n",
       "      <td>NaN</td>\n",
       "      <td>NaN</td>\n",
       "      <td>NaN</td>\n",
       "      <td>NaN</td>\n",
       "      <td>NaN</td>\n",
       "      <td>NaN</td>\n",
       "      <td>NaN</td>\n",
       "      <td>NaN</td>\n",
       "    </tr>\n",
       "  </tbody>\n",
       "</table>\n",
       "<p>2 rows × 17893 columns</p>\n",
       "</div>"
      ],
      "text/plain": [
       "          2014-10-13                                                       \\\n",
       "                   0                                                        \n",
       "               BT-01 BT-03 BT-04 BT-05 CBD-03 CBD-05 CBD-06 CBD-07 CBD-13   \n",
       "stoptime         NaN   NaN   NaN   NaN    NaN    NaN    NaN    NaN    NaN   \n",
       "starttime        NaN   NaN   NaN   NaN    NaN    NaN    NaN    NaN    NaN   \n",
       "\n",
       "                 ...  2015-10-12                                            \\\n",
       "                 ...           0                                             \n",
       "          CH-01  ...       UD-02 UD-04 UD-07 UW-02 UW-04 UW-06 UW-07 UW-10   \n",
       "stoptime    NaN  ...         NaN   NaN   NaN   NaN   NaN   NaN   NaN   NaN   \n",
       "starttime   NaN  ...         NaN   NaN   NaN   NaN   NaN   NaN   NaN   NaN   \n",
       "\n",
       "                       \n",
       "                       \n",
       "          WF-01 WF-04  \n",
       "stoptime    NaN   NaN  \n",
       "starttime   NaN   NaN  \n",
       "\n",
       "[2 rows x 17893 columns]"
      ]
     },
     "execution_count": 103,
     "metadata": {},
     "output_type": "execute_result"
    }
   ],
   "source": [
    "# data = [toData, fromData]\n",
    "data = pd.DataFrame([toData, fromData])\n",
    "data.head(10)"
   ]
  },
  {
   "cell_type": "code",
   "execution_count": 71,
   "metadata": {
    "collapsed": false
   },
   "outputs": [
    {
     "ename": "AttributeError",
     "evalue": "'str' object has no attribute 'date'",
     "output_type": "error",
     "traceback": [
      "\u001b[0;31m---------------------------------------------------------------------------\u001b[0m",
      "\u001b[0;31mAttributeError\u001b[0m                            Traceback (most recent call last)",
      "\u001b[0;32m<ipython-input-71-6e34217b5c68>\u001b[0m in \u001b[0;36m<module>\u001b[0;34m()\u001b[0m\n\u001b[0;32m----> 1\u001b[0;31m \u001b[0mdf\u001b[0m\u001b[1;33m.\u001b[0m\u001b[0mstarttime\u001b[0m\u001b[1;33m.\u001b[0m\u001b[0mapply\u001b[0m\u001b[1;33m(\u001b[0m\u001b[1;32mlambda\u001b[0m \u001b[0mdt\u001b[0m\u001b[1;33m:\u001b[0m \u001b[0mdt\u001b[0m\u001b[1;33m.\u001b[0m\u001b[0mdate\u001b[0m\u001b[1;33m(\u001b[0m\u001b[1;33m)\u001b[0m\u001b[1;33m)\u001b[0m\u001b[1;33m.\u001b[0m\u001b[0mgroupby\u001b[0m\u001b[1;33m(\u001b[0m\u001b[1;33m[\u001b[0m\u001b[0mdf\u001b[0m\u001b[1;33m.\u001b[0m\u001b[0mfrom_station_id\u001b[0m\u001b[1;33m,\u001b[0m \u001b[0mdf\u001b[0m\u001b[1;33m.\u001b[0m\u001b[0mstarttime\u001b[0m\u001b[1;33m.\u001b[0m\u001b[0mapply\u001b[0m\u001b[1;33m(\u001b[0m\u001b[1;32mlambda\u001b[0m \u001b[0mdt\u001b[0m\u001b[1;33m:\u001b[0m \u001b[0mdt\u001b[0m\u001b[1;33m.\u001b[0m\u001b[0myear\u001b[0m\u001b[1;33m)\u001b[0m\u001b[1;33m]\u001b[0m\u001b[1;33m)\u001b[0m\u001b[1;33m.\u001b[0m\u001b[0mnunique\u001b[0m\u001b[1;33m(\u001b[0m\u001b[1;33m)\u001b[0m\u001b[1;33m\u001b[0m\u001b[0m\n\u001b[0m",
      "\u001b[0;32mC:\\Users\\aerin\\Anaconda3\\lib\\site-packages\\pandas\\core\\series.py\u001b[0m in \u001b[0;36mapply\u001b[0;34m(self, func, convert_dtype, args, **kwds)\u001b[0m\n\u001b[1;32m   2292\u001b[0m             \u001b[1;32melse\u001b[0m\u001b[1;33m:\u001b[0m\u001b[1;33m\u001b[0m\u001b[0m\n\u001b[1;32m   2293\u001b[0m                 \u001b[0mvalues\u001b[0m \u001b[1;33m=\u001b[0m \u001b[0mself\u001b[0m\u001b[1;33m.\u001b[0m\u001b[0masobject\u001b[0m\u001b[1;33m\u001b[0m\u001b[0m\n\u001b[0;32m-> 2294\u001b[0;31m                 \u001b[0mmapped\u001b[0m \u001b[1;33m=\u001b[0m \u001b[0mlib\u001b[0m\u001b[1;33m.\u001b[0m\u001b[0mmap_infer\u001b[0m\u001b[1;33m(\u001b[0m\u001b[0mvalues\u001b[0m\u001b[1;33m,\u001b[0m \u001b[0mf\u001b[0m\u001b[1;33m,\u001b[0m \u001b[0mconvert\u001b[0m\u001b[1;33m=\u001b[0m\u001b[0mconvert_dtype\u001b[0m\u001b[1;33m)\u001b[0m\u001b[1;33m\u001b[0m\u001b[0m\n\u001b[0m\u001b[1;32m   2295\u001b[0m \u001b[1;33m\u001b[0m\u001b[0m\n\u001b[1;32m   2296\u001b[0m         \u001b[1;32mif\u001b[0m \u001b[0mlen\u001b[0m\u001b[1;33m(\u001b[0m\u001b[0mmapped\u001b[0m\u001b[1;33m)\u001b[0m \u001b[1;32mand\u001b[0m \u001b[0misinstance\u001b[0m\u001b[1;33m(\u001b[0m\u001b[0mmapped\u001b[0m\u001b[1;33m[\u001b[0m\u001b[1;36m0\u001b[0m\u001b[1;33m]\u001b[0m\u001b[1;33m,\u001b[0m \u001b[0mSeries\u001b[0m\u001b[1;33m)\u001b[0m\u001b[1;33m:\u001b[0m\u001b[1;33m\u001b[0m\u001b[0m\n",
      "\u001b[0;32mpandas\\src\\inference.pyx\u001b[0m in \u001b[0;36mpandas.lib.map_infer (pandas\\lib.c:66124)\u001b[0;34m()\u001b[0m\n",
      "\u001b[0;32m<ipython-input-71-6e34217b5c68>\u001b[0m in \u001b[0;36m<lambda>\u001b[0;34m(dt)\u001b[0m\n\u001b[0;32m----> 1\u001b[0;31m \u001b[0mdf\u001b[0m\u001b[1;33m.\u001b[0m\u001b[0mstarttime\u001b[0m\u001b[1;33m.\u001b[0m\u001b[0mapply\u001b[0m\u001b[1;33m(\u001b[0m\u001b[1;32mlambda\u001b[0m \u001b[0mdt\u001b[0m\u001b[1;33m:\u001b[0m \u001b[0mdt\u001b[0m\u001b[1;33m.\u001b[0m\u001b[0mdate\u001b[0m\u001b[1;33m(\u001b[0m\u001b[1;33m)\u001b[0m\u001b[1;33m)\u001b[0m\u001b[1;33m.\u001b[0m\u001b[0mgroupby\u001b[0m\u001b[1;33m(\u001b[0m\u001b[1;33m[\u001b[0m\u001b[0mdf\u001b[0m\u001b[1;33m.\u001b[0m\u001b[0mfrom_station_id\u001b[0m\u001b[1;33m,\u001b[0m \u001b[0mdf\u001b[0m\u001b[1;33m.\u001b[0m\u001b[0mstarttime\u001b[0m\u001b[1;33m.\u001b[0m\u001b[0mapply\u001b[0m\u001b[1;33m(\u001b[0m\u001b[1;32mlambda\u001b[0m \u001b[0mdt\u001b[0m\u001b[1;33m:\u001b[0m \u001b[0mdt\u001b[0m\u001b[1;33m.\u001b[0m\u001b[0myear\u001b[0m\u001b[1;33m)\u001b[0m\u001b[1;33m]\u001b[0m\u001b[1;33m)\u001b[0m\u001b[1;33m.\u001b[0m\u001b[0mnunique\u001b[0m\u001b[1;33m(\u001b[0m\u001b[1;33m)\u001b[0m\u001b[1;33m\u001b[0m\u001b[0m\n\u001b[0m",
      "\u001b[0;31mAttributeError\u001b[0m: 'str' object has no attribute 'date'"
     ]
    }
   ],
   "source": [
    "df.starttime.apply(lambda dt: dt.starttime()).groupby([df.from_station_id, df.starttime.apply(lambda dt: dt.year)]).nunique()\n"
   ]
  },
  {
   "cell_type": "code",
   "execution_count": 82,
   "metadata": {
    "collapsed": false
   },
   "outputs": [
    {
     "data": {
      "text/plain": [
       "365"
      ]
     },
     "execution_count": 82,
     "metadata": {},
     "output_type": "execute_result"
    }
   ],
   "source": [
    "# pd.DatetimeIndex(df['starttime']).nunique()\n",
    "df.from_date.nunique()"
   ]
  },
  {
   "cell_type": "code",
   "execution_count": 64,
   "metadata": {
    "collapsed": false
   },
   "outputs": [
    {
     "data": {
      "text/plain": [
       "trip_id                int64\n",
       "starttime             object\n",
       "stoptime              object\n",
       "bikeid                object\n",
       "tripduration         float64\n",
       "from_station_name     object\n",
       "to_station_name       object\n",
       "from_station_id       object\n",
       "to_station_id         object\n",
       "usertype              object\n",
       "gender                object\n",
       "birthyear            float64\n",
       "from_day_of_week       int32\n",
       "from_date             object\n",
       "from_year              int32\n",
       "dtype: object"
      ]
     },
     "execution_count": 64,
     "metadata": {},
     "output_type": "execute_result"
    }
   ],
   "source": [
    "# The Pandas way to obtain datatypes for every column\n",
    "df.dtypes"
   ]
  },
  {
   "cell_type": "code",
   "execution_count": null,
   "metadata": {
    "collapsed": true
   },
   "outputs": [],
   "source": [
    "num_to_weekdays = np.unique(df_original[\"to_day_of_week\"], return_counts=True)\n",
    "# (array([0, 1, 2, 3, 4, 5, 6]),\n",
    "#  array([21258, 20478, 20729, 21496, 21069, 20348, 17454], dtype=int64))"
   ]
  },
  {
   "cell_type": "code",
   "execution_count": null,
   "metadata": {
    "collapsed": true
   },
   "outputs": [],
   "source": [
    "# numpy.unique(array, return_index=False, return_inverse=False, return_counts=False) \n",
    "# Returns sorted unique elements of an array w/ 3 optional outputs in addition to the unique elements: \n",
    "# the indices of the input array that give the unique values, the indices of the unique array that \n",
    "# reconstruct the input array, and the number of times each unique value comes up in the input array.\n",
    "from_x = df_original.groupby([\"from_date\", \"from_day_of_week\"])[\"from_day_of_week\"].count()\n",
    "from_x_index = from_x.index\n",
    "from_x_index[:][:]\n",
    "np.unique(df_original[\"from_date\"])\n",
    "(df_original[\"from_date\"].count())/7\n",
    "# num_from_weekdays = np.unique(df_original[\"from_day_of_week\"], return_counts=True)\n",
    "# (array([0, 1, 2, 3, 4, 5, 6]),\n",
    "#  array([21262, 20462, 20746, 21502, 21095, 20358, 17407], dtype=int64))\n"
   ]
  },
  {
   "cell_type": "code",
   "execution_count": null,
   "metadata": {
    "collapsed": true
   },
   "outputs": [],
   "source": [
    "##### Scipy Stats #####\n",
    "# scipy.stats.binned_statistic(x, values, statistic='mean', bins=10)\n",
    "# scipy.stats.binned_statistic_2d(x, y, values, statistic='mean', bins=10, range=None, expand_binnumbers=False)\n",
    "# scipy.stats.binned_statistic_2d([0,1,2,3,4,5,6], \n",
    "#                                ['BT-01', 'BT-03', 'BT-04', 'BT-05', 'CBD-03', 'CBD-04', 'CBD-05'])\n",
    "monday_df = df_original[df_original[\"to_day_of_week\"] ==0] # 21258 rows × 16 columns\n",
    "monday_df.index"
   ]
  },
  {
   "cell_type": "code",
   "execution_count": null,
   "metadata": {
    "collapsed": true
   },
   "outputs": [],
   "source": []
  },
  {
   "cell_type": "code",
   "execution_count": null,
   "metadata": {
    "collapsed": true
   },
   "outputs": [],
   "source": []
  },
  {
   "cell_type": "markdown",
   "metadata": {},
   "source": [
    "Using groupby in a data frame:"
   ]
  },
  {
   "cell_type": "code",
   "execution_count": 3,
   "metadata": {
    "collapsed": false
   },
   "outputs": [
    {
     "data": {
      "text/html": [
       "<div>\n",
       "<table border=\"1\" class=\"dataframe\">\n",
       "  <thead>\n",
       "    <tr style=\"text-align: right;\">\n",
       "      <th></th>\n",
       "      <th>letter</th>\n",
       "      <th>one</th>\n",
       "      <th>two</th>\n",
       "    </tr>\n",
       "  </thead>\n",
       "  <tbody>\n",
       "    <tr>\n",
       "      <th>0</th>\n",
       "      <td>a</td>\n",
       "      <td>1</td>\n",
       "      <td>2</td>\n",
       "    </tr>\n",
       "    <tr>\n",
       "      <th>1</th>\n",
       "      <td>a</td>\n",
       "      <td>1</td>\n",
       "      <td>2</td>\n",
       "    </tr>\n",
       "    <tr>\n",
       "      <th>2</th>\n",
       "      <td>b</td>\n",
       "      <td>1</td>\n",
       "      <td>2</td>\n",
       "    </tr>\n",
       "    <tr>\n",
       "      <th>3</th>\n",
       "      <td>b</td>\n",
       "      <td>1</td>\n",
       "      <td>2</td>\n",
       "    </tr>\n",
       "    <tr>\n",
       "      <th>4</th>\n",
       "      <td>c</td>\n",
       "      <td>1</td>\n",
       "      <td>2</td>\n",
       "    </tr>\n",
       "  </tbody>\n",
       "</table>\n",
       "</div>"
      ],
      "text/plain": [
       "  letter  one  two\n",
       "0      a    1    2\n",
       "1      a    1    2\n",
       "2      b    1    2\n",
       "3      b    1    2\n",
       "4      c    1    2"
      ]
     },
     "execution_count": 3,
     "metadata": {},
     "output_type": "execute_result"
    }
   ],
   "source": [
    "# Our small data set\n",
    "d = {'one':[1,1,1,1,1],\n",
    "     'two':[2,2,2,2,2],\n",
    "     'letter':['a','a','b','b','c']}\n",
    "\n",
    "# Create dataframe\n",
    "df = pd.DataFrame(d)\n",
    "df"
   ]
  },
  {
   "cell_type": "code",
   "execution_count": 4,
   "metadata": {
    "collapsed": false
   },
   "outputs": [
    {
     "data": {
      "text/html": [
       "<div>\n",
       "<table border=\"1\" class=\"dataframe\">\n",
       "  <thead>\n",
       "    <tr style=\"text-align: right;\">\n",
       "      <th></th>\n",
       "      <th>one</th>\n",
       "      <th>two</th>\n",
       "    </tr>\n",
       "    <tr>\n",
       "      <th>letter</th>\n",
       "      <th></th>\n",
       "      <th></th>\n",
       "    </tr>\n",
       "  </thead>\n",
       "  <tbody>\n",
       "    <tr>\n",
       "      <th>a</th>\n",
       "      <td>2</td>\n",
       "      <td>4</td>\n",
       "    </tr>\n",
       "    <tr>\n",
       "      <th>b</th>\n",
       "      <td>2</td>\n",
       "      <td>4</td>\n",
       "    </tr>\n",
       "    <tr>\n",
       "      <th>c</th>\n",
       "      <td>1</td>\n",
       "      <td>2</td>\n",
       "    </tr>\n",
       "  </tbody>\n",
       "</table>\n",
       "</div>"
      ],
      "text/plain": [
       "        one  two\n",
       "letter          \n",
       "a         2    4\n",
       "b         2    4\n",
       "c         1    2"
      ]
     },
     "execution_count": 4,
     "metadata": {},
     "output_type": "execute_result"
    }
   ],
   "source": [
    "# Create group object\n",
    "one = df.groupby('letter')\n",
    "\n",
    "# Apply sum function\n",
    "one.sum()"
   ]
  },
  {
   "cell_type": "code",
   "execution_count": 5,
   "metadata": {
    "collapsed": false
   },
   "outputs": [
    {
     "data": {
      "text/html": [
       "<div>\n",
       "<table border=\"1\" class=\"dataframe\">\n",
       "  <thead>\n",
       "    <tr style=\"text-align: right;\">\n",
       "      <th></th>\n",
       "      <th></th>\n",
       "      <th>two</th>\n",
       "    </tr>\n",
       "    <tr>\n",
       "      <th>letter</th>\n",
       "      <th>one</th>\n",
       "      <th></th>\n",
       "    </tr>\n",
       "  </thead>\n",
       "  <tbody>\n",
       "    <tr>\n",
       "      <th>a</th>\n",
       "      <th>1</th>\n",
       "      <td>4</td>\n",
       "    </tr>\n",
       "    <tr>\n",
       "      <th>b</th>\n",
       "      <th>1</th>\n",
       "      <td>4</td>\n",
       "    </tr>\n",
       "    <tr>\n",
       "      <th>c</th>\n",
       "      <th>1</th>\n",
       "      <td>2</td>\n",
       "    </tr>\n",
       "  </tbody>\n",
       "</table>\n",
       "</div>"
      ],
      "text/plain": [
       "            two\n",
       "letter one     \n",
       "a      1      4\n",
       "b      1      4\n",
       "c      1      2"
      ]
     },
     "execution_count": 5,
     "metadata": {},
     "output_type": "execute_result"
    }
   ],
   "source": [
    "letterone = df.groupby(['letter','one']).sum()\n",
    "letterone"
   ]
  },
  {
   "cell_type": "code",
   "execution_count": 6,
   "metadata": {
    "collapsed": false
   },
   "outputs": [
    {
     "data": {
      "text/plain": [
       "MultiIndex(levels=[['a', 'b', 'c'], [1]],\n",
       "           labels=[[0, 1, 2], [0, 0, 0]],\n",
       "           names=['letter', 'one'])"
      ]
     },
     "execution_count": 6,
     "metadata": {},
     "output_type": "execute_result"
    }
   ],
   "source": [
    "letterone.index"
   ]
  },
  {
   "cell_type": "code",
   "execution_count": 9,
   "metadata": {
    "collapsed": false
   },
   "outputs": [
    {
     "data": {
      "text/html": [
       "<div>\n",
       "<table border=\"1\" class=\"dataframe\">\n",
       "  <thead>\n",
       "    <tr style=\"text-align: right;\">\n",
       "      <th></th>\n",
       "      <th></th>\n",
       "      <th>two</th>\n",
       "    </tr>\n",
       "    <tr>\n",
       "      <th>letter</th>\n",
       "      <th>one</th>\n",
       "      <th></th>\n",
       "    </tr>\n",
       "  </thead>\n",
       "  <tbody>\n",
       "    <tr>\n",
       "      <th>a</th>\n",
       "      <th>1</th>\n",
       "      <td>2</td>\n",
       "    </tr>\n",
       "    <tr>\n",
       "      <th>b</th>\n",
       "      <th>1</th>\n",
       "      <td>2</td>\n",
       "    </tr>\n",
       "    <tr>\n",
       "      <th>c</th>\n",
       "      <th>1</th>\n",
       "      <td>1</td>\n",
       "    </tr>\n",
       "  </tbody>\n",
       "</table>\n",
       "</div>"
      ],
      "text/plain": [
       "            two\n",
       "letter one     \n",
       "a      1      2\n",
       "b      1      2\n",
       "c      1      1"
      ]
     },
     "execution_count": 9,
     "metadata": {},
     "output_type": "execute_result"
    }
   ],
   "source": [
    "letterone = df.groupby(['letter','one']).count()\n",
    "letterone"
   ]
  },
  {
   "cell_type": "code",
   "execution_count": 10,
   "metadata": {
    "collapsed": false
   },
   "outputs": [
    {
     "data": {
      "text/plain": [
       "MultiIndex(levels=[['a', 'b', 'c'], [1]],\n",
       "           labels=[[0, 1, 2], [0, 0, 0]],\n",
       "           names=['letter', 'one'])"
      ]
     },
     "execution_count": 10,
     "metadata": {},
     "output_type": "execute_result"
    }
   ],
   "source": [
    "# same index\n",
    "letterone.index"
   ]
  },
  {
   "cell_type": "code",
   "execution_count": 7,
   "metadata": {
    "collapsed": false
   },
   "outputs": [
    {
     "data": {
      "text/html": [
       "<div>\n",
       "<table border=\"1\" class=\"dataframe\">\n",
       "  <thead>\n",
       "    <tr style=\"text-align: right;\">\n",
       "      <th></th>\n",
       "      <th>letter</th>\n",
       "      <th>one</th>\n",
       "      <th>two</th>\n",
       "    </tr>\n",
       "  </thead>\n",
       "  <tbody>\n",
       "    <tr>\n",
       "      <th>0</th>\n",
       "      <td>a</td>\n",
       "      <td>1</td>\n",
       "      <td>4</td>\n",
       "    </tr>\n",
       "    <tr>\n",
       "      <th>1</th>\n",
       "      <td>b</td>\n",
       "      <td>1</td>\n",
       "      <td>4</td>\n",
       "    </tr>\n",
       "    <tr>\n",
       "      <th>2</th>\n",
       "      <td>c</td>\n",
       "      <td>1</td>\n",
       "      <td>2</td>\n",
       "    </tr>\n",
       "  </tbody>\n",
       "</table>\n",
       "</div>"
      ],
      "text/plain": [
       "  letter  one  two\n",
       "0      a    1    4\n",
       "1      b    1    4\n",
       "2      c    1    2"
      ]
     },
     "execution_count": 7,
     "metadata": {},
     "output_type": "execute_result"
    }
   ],
   "source": [
    "letterone = df.groupby(['letter','one'], as_index=False).sum()\n",
    "letterone"
   ]
  },
  {
   "cell_type": "code",
   "execution_count": 8,
   "metadata": {
    "collapsed": false
   },
   "outputs": [
    {
     "data": {
      "text/plain": [
       "Int64Index([0, 1, 2], dtype='int64')"
      ]
     },
     "execution_count": 8,
     "metadata": {},
     "output_type": "execute_result"
    }
   ],
   "source": [
    "# letterone's index changed\n",
    "letterone.index"
   ]
  },
  {
   "cell_type": "code",
   "execution_count": null,
   "metadata": {
    "collapsed": true
   },
   "outputs": [],
   "source": []
  },
  {
   "cell_type": "code",
   "execution_count": null,
   "metadata": {
    "collapsed": true
   },
   "outputs": [],
   "source": [
    "# Adding the following lines to a new script will clear all variables each time you rerun the script:\n",
    "from IPython import get_ipython\n",
    "get_ipython().magic('reset -sf') "
   ]
  },
  {
   "cell_type": "code",
   "execution_count": null,
   "metadata": {
    "collapsed": true
   },
   "outputs": [],
   "source": [
    "# To erase a single variable:\n",
    "# reset_selective name_variable\n",
    "%reset_selective from_df_groups\n",
    "%reset_selective to_df_groups"
   ]
  },
  {
   "cell_type": "code",
   "execution_count": null,
   "metadata": {
    "collapsed": true
   },
   "outputs": [],
   "source": [
    "###### Pandas Data Structures (3) ######\n",
    "# Series is the most basic Data Structure available in Pandas. \n",
    "# This is basically a 1-dimensional labeled array. Therefore, Series have only one axis (axis == 0) called “index”. \n",
    "# Example Series object:\n",
    "s1 = pd.Series([1, 90, 'hey', np.nan], index=['a', 'B', 'C', 'd'])\n",
    "\n",
    "# DataFrames are 2-dimensional structures, with two axes, the “index” axis (axis == 0), and the “columns” axis (axis == 1). \n",
    "# DataFrames can be thought of as Python dictionaries where keys are the column labels, and values are the column Series. \n",
    "d1 = pd.DataFrame({'day': [17, 30], 'month': [1, 12], 'year': [2010, 2017]})\n",
    "\n",
    "# Panels are 3-dimensional data structures, rarely used in comparison with DataFrames. Analogously to DataFrames, \n",
    "# they can be thought of as Python dictionaries of DataFrames. Instead of “index” and “columns”, \n",
    "# Panels’ axes are named as follow: items (axis == 0); major_axis (axis == 1); minor_axis (axis == 2)\n"
   ]
  },
  {
   "cell_type": "code",
   "execution_count": null,
   "metadata": {
    "collapsed": true
   },
   "outputs": [],
   "source": []
  },
  {
   "cell_type": "code",
   "execution_count": null,
   "metadata": {
    "collapsed": true
   },
   "outputs": [],
   "source": [
    "###### Combining Data Frames ######\n",
    "# concat receives a list of DataFrames and uses axis = 0 (‘rows’) by default, so it sticks one DataFrame “below” \n",
    "# the ones before. If axis = 1 (‘columns’) is passed, then it will stick each DataFrame at the right side of the \n",
    "# ones before. concat, as opposed to several other methods, is only available in the main pandas namespace.\n",
    "# A namespace basically is “where a method or attribute” lives.\n",
    "df1 = pd.DataFrame({'a': [1]})\n",
    "df2 = pd.DataFrame({'b': [2]})\n",
    "df3 = pd.concat([df1, df2]) "
   ]
  },
  {
   "cell_type": "code",
   "execution_count": null,
   "metadata": {
    "collapsed": true
   },
   "outputs": [],
   "source": []
  },
  {
   "cell_type": "code",
   "execution_count": null,
   "metadata": {
    "collapsed": true
   },
   "outputs": [],
   "source": [
    "###### Data Frame Methods ######\n",
    "\n",
    "# info methods to get general info about df include:\n",
    "df3.info()\n",
    "\n",
    "# basic calculation methodss include:\n",
    "# count, mean, max, min, cumsum, imax, imin, and describe \n",
    "# which does almost all of the prior calculations and presents them in a nicely formatted table.\n",
    "\n",
    "# sorting and ranking methods: \n",
    "# to sort data based on its index, or on any column we have sort_index and sort_values. "
   ]
  },
  {
   "cell_type": "code",
   "execution_count": null,
   "metadata": {
    "collapsed": true
   },
   "outputs": [],
   "source": []
  },
  {
   "cell_type": "code",
   "execution_count": null,
   "metadata": {
    "collapsed": true
   },
   "outputs": [],
   "source": [
    "times_start = pd.DatetimeIndex(df_original['starttime'])\n",
    "times_stop = pd.DatetimeIndex(df_original['stoptime'])"
   ]
  },
  {
   "cell_type": "code",
   "execution_count": null,
   "metadata": {
    "collapsed": true
   },
   "outputs": [],
   "source": [
    "np.unique(df_original[\"from_station_id\"])\n",
    "np.unique(df_original[\"to_station_id\"])"
   ]
  },
  {
   "cell_type": "code",
   "execution_count": null,
   "metadata": {
    "collapsed": true
   },
   "outputs": [],
   "source": [
    "# numpy.unique(array, return_index=False, return_inverse=False, return_counts=False) \n",
    "# Returns sorted unique elements of an array w/ 3 optional outputs in addition to the unique elements: \n",
    "# the indices of the input array that give the unique values, the indices of the unique array that \n",
    "# reconstruct the input array, and the number of times each unique value comes up in the input array.\n",
    "times_start = pd.DatetimeIndex(df_original['starttime'])\n",
    "times_stop = pd.DatetimeIndex(df_original['stoptime'])\n",
    "np.unique(times_start.dayofweek, return_counts=True)\n",
    "\n",
    "# find out whether time is kept in 12 or 24 hour increments\n",
    "np.unique(times_start.time) # times are reported in 24 hour blocks "
   ]
  },
  {
   "cell_type": "markdown",
   "metadata": {},
   "source": [
    "In Hmk3, I initially added a column with the wrong name, but kept this for future reference about deleting or renaming rows and columns:"
   ]
  },
  {
   "cell_type": "code",
   "execution_count": null,
   "metadata": {
    "collapsed": true
   },
   "outputs": [],
   "source": [
    "# add column named \"FromDayOfWeek\", was initially planning to separate to and from\n",
    "df[\"FromDayOfWeek\"] = pd.DatetimeIndex(df['starttime']).dayofweek\n",
    "\n",
    "# Drop a variable (column): axis=1 denotes a column, not a row\n",
    "# example: df[:-3] #drops bottom 3 rows\n",
    "# df.drop('FromDayOfWeek', axis=1) # considered dropping, but just want to rename it\n",
    "\n",
    "# Renaming Columns Example: df.rename(index=str, columns={\"A\": \"a\", \"C\": \"c\"})\n",
    "df.rename(columns={\"FromDayOfWeek\": \"day_of_week\"})"
   ]
  },
  {
   "cell_type": "code",
   "execution_count": null,
   "metadata": {
    "collapsed": true
   },
   "outputs": [],
   "source": [
    "###### Indexing and Selecting Data With Pandas ######\n",
    "# .iloc[row,column]\n",
    "# Select all rows by index label, \n",
    "# Example: Select all rows with index label \"Arizona\"\n",
    "#  df.loc[:'Arizona']\n",
    "# .ix is the combination of both .loc and .iloc. Integers are first considered labels, \n",
    "# but if not found, falls back on positional indexing\n",
    "Monday = df_counts.ix[0]\n",
    "Tuesday = df_counts.ix[1]\n",
    "Tuesday.head(10)\n",
    "type(Monday)"
   ]
  },
  {
   "cell_type": "code",
   "execution_count": null,
   "metadata": {
    "collapsed": true
   },
   "outputs": [],
   "source": [
    "days = (\"Monday\", \"Tuesday\", \"Wednesday\", \"Thursday\", \"Friday\", \"Saturday\", \"Sunday\")\n",
    "for i in len(days):\n",
    "    days[i] = df_counts.groupby(level=[i])\n",
    "    i += 1\n",
    "days"
   ]
  },
  {
   "cell_type": "code",
   "execution_count": null,
   "metadata": {
    "collapsed": true
   },
   "outputs": [],
   "source": [
    "import seaborn\n",
    "\n",
    "g = seaborn.FacetGrid(data=df_counts, col=df_counts.index.levels[0], col_wrap)\n",
    "g.map(seaborn.distplot, \"Delta\")\n",
    "seaborn.plt.show()"
   ]
  }
 ],
 "metadata": {
  "anaconda-cloud": {},
  "kernelspec": {
   "display_name": "Python [default]",
   "language": "python",
   "name": "python3"
  },
  "language_info": {
   "codemirror_mode": {
    "name": "ipython",
    "version": 3
   },
   "file_extension": ".py",
   "mimetype": "text/x-python",
   "name": "python",
   "nbconvert_exporter": "python",
   "pygments_lexer": "ipython3",
   "version": "3.5.3"
  }
 },
 "nbformat": 4,
 "nbformat_minor": 1
}
